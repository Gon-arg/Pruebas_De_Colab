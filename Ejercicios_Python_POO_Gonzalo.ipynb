{
  "nbformat": 4,
  "nbformat_minor": 0,
  "metadata": {
    "colab": {
      "provenance": [],
      "authorship_tag": "ABX9TyMsQtaprE3OaKOzgDs7c3xp",
      "include_colab_link": true
    },
    "kernelspec": {
      "name": "python3",
      "display_name": "Python 3"
    },
    "language_info": {
      "name": "python"
    }
  },
  "cells": [
    {
      "cell_type": "markdown",
      "metadata": {
        "id": "view-in-github",
        "colab_type": "text"
      },
      "source": [
        "<a href=\"https://colab.research.google.com/github/Gon-arg/Pruebas_De_Colab/blob/main/Ejercicios_Python_POO_Gonzalo.ipynb\" target=\"_parent\"><img src=\"https://colab.research.google.com/assets/colab-badge.svg\" alt=\"Open In Colab\"/></a>"
      ]
    },
    {
      "cell_type": "markdown",
      "source": [
        "Vamos a crear una clase llamada Persona. Sus atributos son: nombre, edad y DNI. Construye los siguientes métodos para la clase:\n",
        "\n",
        "Un constructor, donde los datos pueden estar vacíos.\n",
        "\n",
        "Los setters y getters para cada uno de los atributos. Hay que validar las entradas de datos.\n",
        "\n",
        "mostrar(): Muestra los datos de la persona.\n",
        "\n",
        "esMayorDeEdad(): Devuelve un valor lógico indicando si es mayor de edad."
      ],
      "metadata": {
        "id": "UKJySWqUS5gh"
      }
    },
    {
      "cell_type": "code",
      "execution_count": null,
      "metadata": {
        "id": "qN82Sj9CSyN-"
      },
      "outputs": [],
      "source": [
        "class Persona:\n",
        "    def __init__(self, nombre=\"\", edad=0, dni=\"\"):\n",
        "        self._nombre = nombre # Usamos guion bajo para atributos internos\n",
        "        self._edad = edad\n",
        "        self._dni = dni\n",
        "\n",
        "    # Getter para nombre\n",
        "    def get_nombre(self):\n",
        "        return self._nombre\n",
        "\n",
        "    # Setter para nombre\n",
        "    def set_nombre(self, nombre):\n",
        "        if isinstance(nombre, str): # Validamos que sea una cadena\n",
        "            self._nombre = nombre\n",
        "        else:\n",
        "            print(\"Error: El nombre debe ser una cadena de texto.\")\n",
        "\n",
        "    # Getter para edad\n",
        "    def get_edad(self):\n",
        "        return self._edad\n",
        "\n",
        "    # Setter para edad\n",
        "    def set_edad(self, edad):\n",
        "        if isinstance(edad, int) and edad >= 0: # Validamos que sea un entero no negativo\n",
        "            self._edad = edad\n",
        "        else:\n",
        "            print(\"Error: La edad debe ser un número entero positivo.\")\n",
        "\n",
        "    # Getter para DNI\n",
        "    def get_dni(self):\n",
        "        return self._dni\n",
        "\n",
        "    # Setter para DNI\n",
        "    def set_dni(self, dni):\n",
        "        # Validación básica de DNI: que sea una cadena y tenga una longitud razonable (ej. 9 caracteres)\n",
        "        if isinstance(dni, str) and len(dni) == 9: # Puedes añadir validaciones más complejas si es necesario\n",
        "             self._dni = dni\n",
        "        else:\n",
        "            print(\"Error: El DNI debe ser una cadena de 9 caracteres.\")\n",
        "\n",
        "\n",
        "    # Método mostrar()\n",
        "    def mostrar(self):\n",
        "        print(\"--- Datos de la Persona ---\")\n",
        "        print(f\"Nombre: {self._nombre}\")\n",
        "        print(f\"Edad: {self._edad}\")\n",
        "        print(f\"DNI: {self._dni}\")\n",
        "        print(\"---------------------------\")\n",
        "\n",
        "\n",
        "    # Método esMayorDeEdad()\n",
        "    def esMayorDeEdad(self):\n",
        "        return self._edad >= 18\n",
        "\n",
        "# Puedes probar la clase aquí:\n",
        "# persona1 = Persona(\"Ana\", 25, \"12345678A\")\n",
        "# persona1.mostrar()\n",
        "# print(f\"¿Es mayor de edad? {persona1.esMayorDeEdad()}\")\n",
        "\n",
        "# Prueba de setters con validación\n",
        "# persona1.set_edad(30) # Válido\n",
        "# persona1.set_edad(-5) # Inválido\n",
        "# persona1.set_nombre(\"Luis\") # Válido\n",
        "# persona1.set_nombre(123) # Inválido\n",
        "# persona1.set_dni(\"ABC12345X\") # Válido\n",
        "# persona1.set_dni(\"123\") # Inválido\n",
        "# persona1.mostrar()"
      ]
    },
    {
      "cell_type": "markdown",
      "source": [
        "Objetivo: Practicar encapsulación y uso básico de clases.\n",
        "\n",
        "Crea una clase Rectangulo con propiedades Ancho y Alto. Agregá métodos para:\n",
        "\n",
        "Calcular el área.\n",
        "\n",
        "Calcular el perímetro.\n",
        "\n",
        "Validar que los valores sean mayores que cero.\n",
        "\n",
        "🧪 Prueba: instanciá un rectángulo con ancho 10 y alto 5, imprimí su área y perímetro.\n",
        "\n"
      ],
      "metadata": {
        "id": "jvW-FLCTZ5rQ"
      }
    },
    {
      "cell_type": "code",
      "source": [
        "class Rectangulo:\n",
        "  def __init__(self, ancho, alto):\n",
        "    self.ancho = ancho\n",
        "    self.alto = alto\n",
        "\n",
        "  def Calcular_Area(self):\n",
        "    return self.ancho*self.alto\n",
        "\n",
        "  def Calcular_Perimetro(self):\n",
        "    return 2*(self.ancho+self.alto)\n",
        "\n",
        "  def Validar_Valores(self):\n",
        "    if self.ancho <= 0 or self.alto <= 0:\n",
        "      print(\"Error: Los valores del ancho y alto deben ser mayores que cero.\")\n",
        "\n",
        "  def Mostrar_Datos(self):\n",
        "    print(f\"perimetro:{self.Calcular_Perimetro()}\")\n",
        "    print(f\"area:{self.Calcular_Area()}\")\n",
        "\n",
        "Rectanguloo=Rectangulo(10,0)\n",
        "Rectanguloo.Validar_Valores()\n",
        "Rectanguloo.Mostrar_Datos()"
      ],
      "metadata": {
        "id": "fqViwzXKZ7zg"
      },
      "execution_count": null,
      "outputs": []
    },
    {
      "cell_type": "markdown",
      "source": [
        "Empleado (herencia + polimorfismo)\n",
        "Objetivo: Aplicar herencia y polimorfismo.\n",
        "\n",
        "Creá una clase base Empleado con:\n",
        "\n",
        "Nombre y método CalcularSalario().\n",
        "\n",
        "Dos subclases:\n",
        "\n",
        "EmpleadoFijo con salario fijo.\n",
        "\n",
        "EmpleadoTemporal que cobra por horas trabajadas.\n",
        "\n",
        "🧪 Prueba: creá una lista de empleados y llamá a CalcularSalario() en cada uno con polimorfismo."
      ],
      "metadata": {
        "id": "VTfHc5mfcqTF"
      }
    },
    {
      "cell_type": "code",
      "source": [
        "class Empleado:\n",
        "    def __init__(self, nombre,salario):\n",
        "        self.nombre = nombre\n",
        "        self.salario = salario\n",
        "class EmpleadoFijo(Empleado):\n",
        "    def __init__(self, nombre, salario):\n",
        "        super().__init__(nombre, salario)\n",
        "    def CalcularSalario(self):\n",
        "        return self.salario\n",
        "\n",
        "\n",
        "class EmpleadoTemporal(Empleado):\n",
        "    def __init__(self, nombre, salario, horas_trabajadas):\n",
        "        self.horas_trabajadas = horas_trabajadas\n",
        "        super().__init__(nombre, salario)\n",
        "    def CalcularSalario(self):\n",
        "      return self.salario * self.horas_trabajadas\n",
        "empleado1 = EmpleadoFijo(\"Juan\", 50000)\n",
        "empleado2 = EmpleadoTemporal(\"Maria\", 20, 40)\n",
        "print(empleado1.CalcularSalario())\n",
        "print(empleado2.CalcularSalario())"
      ],
      "metadata": {
        "id": "eMdxL4bVcr9Q"
      },
      "execution_count": null,
      "outputs": []
    },
    {
      "cell_type": "markdown",
      "source": [
        "1. Animales parlantes\n",
        "Crear una clase base Animal con un método hablar().\n",
        "\n",
        "Crear subclases Perro, Gato y Vaca que sobrescriban hablar().\n",
        "\n",
        "Recorre una lista de animales y hacelos hablar.\n",
        "\n"
      ],
      "metadata": {
        "id": "ntEtOZGm4un0"
      }
    },
    {
      "cell_type": "code",
      "source": [
        "class animales:\n",
        "  def hablar(self):\n",
        "    pass\n",
        "\n",
        "class perro(animales):\n",
        "  def hablar(self):\n",
        "    print(\"guau\")\n",
        "class gato(animales):\n",
        "  def hablar(self):\n",
        "    print(\"miau\")\n",
        "class vaca(animales):\n",
        "  def hablar(self):\n",
        "    print(\"muuu\")\n",
        "\n",
        "animales = [perro(),gato(),vaca()]\n",
        "for animal in animales:\n",
        "  animal.hablar()"
      ],
      "metadata": {
        "id": "23VrCHft5zr1"
      },
      "execution_count": null,
      "outputs": []
    },
    {
      "cell_type": "markdown",
      "source": [
        "2. Instrumentos musicales\n",
        "Clase base Instrumento con método tocar().\n",
        "\n",
        "Subclases: Guitarra, Piano, Tambor.\n",
        "\n",
        "Usá polimorfismo para llamar a tocar() sin importar el tipo."
      ],
      "metadata": {
        "id": "0dlt6owA602E"
      }
    },
    {
      "cell_type": "code",
      "source": [
        "class instrumentos:\n",
        "  def tocar(self):\n",
        "    pass\n",
        "class guitarra(instrumentos):\n",
        "  def tocar(self):\n",
        "    print(\"tocando guitarra\")\n",
        "class piano(instrumentos):\n",
        "  def tocar(self):\n",
        "    print(\"tocando piano\")\n",
        "class tambor(instrumentos):\n",
        "  def tocar(self):\n",
        "    print(\"tocando tambor\")\n"
      ],
      "metadata": {
        "id": "h5chZ9GI7LZs"
      },
      "execution_count": null,
      "outputs": []
    },
    {
      "cell_type": "markdown",
      "source": [
        "Ejercicio 1: Clases y Objetos\n",
        "Crea una clase llamada Coche que tenga los siguientes atributos\n",
        "\n",
        "marca\n",
        "\n",
        "modelo\n",
        "\n",
        "año\n",
        "\n",
        "color\n",
        "\n",
        "Implementa los siguientes métodos:\n",
        "\n",
        "mostrar_info(): que imprima la información del coche.\n",
        "\n",
        "cambiar_color(nuevo_color): que cambie el color del coche."
      ],
      "metadata": {
        "id": "x1e-VGo28FuU"
      }
    },
    {
      "cell_type": "code",
      "source": [
        "class coche:\n",
        "  def __init__(self,marca,modelo,año,color):\n",
        "    self.marca=marca\n",
        "    self.modelo=modelo\n",
        "    self.año=año\n",
        "    self.color=color\n",
        "    #metodo\n",
        "  def mostrar_info(self):\n",
        "    print(f\"marca:{self.marca}\")\n",
        "    print(f\"modelo:{self.modelo}\")\n",
        "    print(f\"año:{self.año}\")\n",
        "    print(f\"color:{self.color}\")\n",
        "\n",
        "  def cambiar_color(self,nuevo_color):\n",
        "    self.color=nuevo_color\n",
        "coche1=coche(\"mazda\",\"3\",2023,\"rojo\")\n",
        "coche1.mostrar_info()\n",
        "coche1.cambiar_color(\"azul\")\n",
        "coche1.mostrar_info()\n"
      ],
      "metadata": {
        "id": "KC8Qtvzy9gKj"
      },
      "execution_count": null,
      "outputs": []
    },
    {
      "cell_type": "markdown",
      "source": [
        ". Videojuego de personajes\n",
        "Clase Personaje con método atacar().\n",
        "\n",
        "Subclases: Guerrero, Mago, Arquero, cada uno con su ataque especial.\n",
        "\n",
        "Simulá una batalla donde cada personaje ataca.\n",
        "\n"
      ],
      "metadata": {
        "id": "4du9TNmiSBXu"
      }
    },
    {
      "cell_type": "code",
      "source": [
        "class Personaje:\n",
        "  def __init__(self,nombre):\n",
        "    self.nombre=nombre\n",
        "  def atacar(self):\n",
        "    pass\n",
        "\n",
        "class Guerrero(Personaje):\n",
        "  def __init__(self,nombre):\n",
        "    super().__init__(nombre)\n",
        "  def atacar(self):\n",
        "    print(f\"{self.nombre} atacando con espada\")\n",
        "\n",
        "class Mago(Personaje):\n",
        "  def __init__(self,nombre):\n",
        "    super().__init__(nombre)\n",
        "  def atacar(self):\n",
        "    print(f\"{self.nombre} atacando con hechizo\")\n",
        "\n",
        "class Arquero(Personaje):\n",
        "  def __init__(self,nombre):\n",
        "    super().__init__(nombre)\n",
        "  def atacar(self):\n",
        "    print(f\"{self.nombre} atacando con flecha\")\n",
        "\n",
        "guerrero1=Guerrero(\"guerrero1\")\n",
        "mago1=Mago(\"mago1\")\n",
        "arquero1=Arquero(\"arquero1\")\n",
        "\n",
        "guerrero1.atacar()\n",
        "mago1.atacar()\n",
        "arquero1.atacar()\n"
      ],
      "metadata": {
        "id": "Ddyx8HHuSEAn"
      },
      "execution_count": null,
      "outputs": []
    },
    {
      "cell_type": "markdown",
      "source": [
        "Zoo virtual\n",
        "\n",
        "Clase base Animal con métodos comer() y hacer_sonido().\n",
        "\n",
        "Subclases: Leon, Mono, Elefante, etc.\n",
        "\n",
        "Usá una lista para simular el día en un zoológico (alimentarlos y escucharlos)."
      ],
      "metadata": {
        "id": "O8Tf4cXrS16P"
      }
    },
    {
      "cell_type": "code",
      "source": [
        "class Animal:\n",
        "  def __init__(self,comer,sonido):\n",
        "    self.comer=comer\n",
        "    self.sonido=sonido\n",
        "\n",
        "class leon(Animal):\n",
        "  def __init__(self,comer,sonido):\n",
        "    super().__init__(comer,sonido)\n",
        "    print(f\"{self.comer} y {self.sonido}\")\n",
        "\n",
        "class mono(Animal):\n",
        "  def __init__(self,comer,sonido):\n",
        "    super().__init__(comer,sonido)\n",
        "    print(f\"{self.comer} y {self.sonido}\")\n",
        "\n",
        "class elefante(Animal):\n",
        "  def __init__(self,comer,sonido):\n",
        "    super().__init__(comer,sonido)\n",
        "    print(f\"{self.comer} y {self.sonido}\")\n",
        "leon1=leon(\"comiendo\",\"rugido\")\n",
        "mono1=mono(\"comiendo\",\"ruido\")\n",
        "elefante1=elefante(\"comiendo\",\"ruido\")\n"
      ],
      "metadata": {
        "id": "xHvO6S5HS452"
      },
      "execution_count": null,
      "outputs": []
    },
    {
      "cell_type": "code",
      "source": [
        "class Animal:\n",
        "    def comer(self):\n",
        "        pass\n",
        "\n",
        "    def hacer_sonido(self):\n",
        "        pass\n",
        "\n",
        "class Leon(Animal):\n",
        "    def comer(self):\n",
        "        return \"El león está comiendo carne.\"\n",
        "\n",
        "    def hacer_sonido(self):\n",
        "        return \"El león ruge: ¡ROAR!\"\n",
        "\n",
        "class Mono(Animal):\n",
        "    def comer(self):\n",
        "        return \"El mono está comiendo bananas.\"\n",
        "\n",
        "    def hacer_sonido(self):\n",
        "        return \"El mono grita: ¡Iiiii aaaa!\"\n",
        "\n",
        "class Elefante(Animal):\n",
        "    def comer(self):\n",
        "        return \"El elefante está comiendo pasto.\"\n",
        "\n",
        "    def hacer_sonido(self):\n",
        "        return \"El elefante barrita: ¡PRRRUUUU!\"\n",
        "\n",
        "# Lista de animales (polimorfismo en acción)\n",
        "zoologico = [Leon(), Mono(), Elefante()]\n",
        "\n",
        "for animal in zoologico:\n",
        "    print(animal.comer())\n",
        "    print(animal.hacer_sonido())\n",
        "    print(\"-\" * 30)\n"
      ],
      "metadata": {
        "id": "hXqo8C7SUFl6"
      },
      "execution_count": null,
      "outputs": []
    },
    {
      "cell_type": "markdown",
      "source": [
        "Sistema de notificaciones\n",
        "\n",
        "Clase Notificacion con método enviar().\n",
        "\n",
        "Subclases: Email, SMS, Push.\n",
        "\n",
        "Cada una implementa enviar() de forma distinta.\n",
        "\n",
        "Llamá a enviar() sobre una lista mixta de notificaciones"
      ],
      "metadata": {
        "id": "UUIm_X_EU1W6"
      }
    },
    {
      "cell_type": "code",
      "source": [
        "class Notificacion:\n",
        "  def __init__(self,enviar):\n",
        "    self.enviar=enviar\n",
        "  def mostrar(self):\n",
        "        print(self.enviar)\n",
        "\n",
        "class Email(Notificacion):\n",
        "  def __init__(self,enviar):\n",
        "    super().__init__(enviar)\n",
        "\n",
        "\n",
        "class sms(Notificacion):\n",
        "  def __init__(self,enviar):\n",
        "    super().__init__(enviar)\n",
        "\n",
        "class push(Notificacion):\n",
        "  def __init__(self,enviar):\n",
        "    super().__init__(enviar)\n",
        "\n",
        "email1 = Email(\"Enviando email\")\n",
        "sms1 = sms(\"Enviando SMS\")\n",
        "push1 = push(\"Enviando push\")\n",
        "\n",
        "email1.mostrar()\n",
        "sms1.mostrar()\n",
        "push1.mostrar()"
      ],
      "metadata": {
        "id": "45iXuJEgU8Kr"
      },
      "execution_count": null,
      "outputs": []
    }
  ]
}